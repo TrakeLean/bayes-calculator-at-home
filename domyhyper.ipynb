{
 "cells": [
  {
   "cell_type": "code",
   "execution_count": 1,
   "metadata": {},
   "outputs": [],
   "source": [
    "import math\n",
    "import matplotlib.pyplot as plt"
   ]
  },
  {
   "cell_type": "code",
   "execution_count": 2,
   "metadata": {},
   "outputs": [],
   "source": [
    "\n",
    "def make_graph(N, M, k, x, n,my,variance,std):\n",
    "    range_ = []\n",
    "    data = []\n",
    "    custom_color = []\n",
    "    sum = accu_hyper(N, M, k, x, n, False)\n",
    "    length = find_length(N, M ,n)\n",
    "    # Get data\n",
    "    for i in range(0, length):\n",
    "        data.append(single_hyper(N, M, i, n))\n",
    "        range_.append(i)\n",
    "        # Show highligthed colors\n",
    "        if x <= i <= k:\n",
    "            custom_color.append('green')\n",
    "        else:\n",
    "            custom_color.append('red')\n",
    "    # plotting chart\n",
    "    plt.bar(range_, data, tick_label = range_,\n",
    "            width = 0.7, color = custom_color)\n",
    "    # Add numbers to bars\n",
    "    for i in range(len(data)):\n",
    "        if data[i] > 0.000009:\n",
    "            plt.annotate(str(f'{data[i]:.5f}'), xy=(range_[i],data[i]), ha='center', va='bottom')\n",
    "    # naming the x-axis\n",
    "    plt.xlabel(f'P({x}≤X≤{k}): {sum:.4f} --- µ: {my:.4f} --- σ2: {variance:.4f} --- σ: {std:.4f}')\n",
    "    # y-axis\n",
    "    plt.ylabel(f'P(X=k)')\n",
    "    # title\n",
    "    plt.title('HyperGeometric distribution!')\n",
    "    # show the plot\n",
    "    plt.show()"
   ]
  },
  {
   "cell_type": "code",
   "execution_count": 3,
   "metadata": {},
   "outputs": [],
   "source": [
    "\n",
    "def single_hyper(N, M, x, n):\n",
    "    answer = (bi_co(M, x) * bi_co(N-M, n-x))/bi_co(N,n)\n",
    "    return answer"
   ]
  },
  {
   "cell_type": "code",
   "execution_count": 4,
   "metadata": {},
   "outputs": [],
   "source": [
    "\n",
    "def accu_hyper(N, M, k, x, n, steps):\n",
    "    answer = 0\n",
    "    for x in range (x ,k+1):\n",
    "        new_answer = single_hyper(N, M, x, n)\n",
    "        if steps:\n",
    "            print(f'Probability of X = {x}: {new_answer:.5f}')\n",
    "        answer += new_answer\n",
    "    return answer"
   ]
  },
  {
   "cell_type": "code",
   "execution_count": 5,
   "metadata": {},
   "outputs": [],
   "source": [
    "\n",
    "def find_length(N, M, n):\n",
    "    steps = 0\n",
    "    answer = 0\n",
    "    while answer <= 0.99999:\n",
    "        answer += single_hyper(N, M, steps, n)\n",
    "        steps += 1\n",
    "    return steps"
   ]
  },
  {
   "cell_type": "code",
   "execution_count": 6,
   "metadata": {},
   "outputs": [],
   "source": [
    "\n",
    "# Calculate Binomial coefficient\n",
    "def bi_co(top, bot):\n",
    "    return math.factorial(top)/(math.factorial(bot) * math.factorial((top - bot)))"
   ]
  },
  {
   "cell_type": "code",
   "execution_count": 7,
   "metadata": {},
   "outputs": [
    {
     "name": "stdout",
     "output_type": "stream",
     "text": [
      "\n",
      "\n",
      "---------------HyperGeometric---------------\n",
      "Expected value (µ): 0.23077 --- Variance (σ2): 0.20466 --- Standard deviation (σ): 0.45240\n",
      "Probability of X = 0: 0.78262\n",
      "Probability of X where 0 ≤ X ≤ 0: 0.7826244343891403\n",
      "--------------------------------------------\n",
      "\n",
      "\n"
     ]
    },
    {
     "data": {
      "image/png": "[encoded data removed]",
      "text/plain": [
       "<Figure size 432x288 with 1 Axes>"
      ]
     },
     "metadata": {
      "needs_background": "light"
     },
     "output_type": "display_data"
    }
   ],
   "source": [
    "\n",
    "# EG. We have a deck of cards (N=52), where we pull out 3 (n) cards without putting them back.\n",
    "# we want to pull out a picture card (M=16)\n",
    "# N total\n",
    "# M possible successes\n",
    "# n how many draw out\n",
    "# x-k range\n",
    "N = 52\n",
    "M = 4\n",
    "n = 3\n",
    "# From\n",
    "x = 0\n",
    "# To\n",
    "k = 0\n",
    "steps = True\n",
    "\n",
    "my = n*(M/N)\n",
    "variance = ((my*((N-M)/N))*((N-n)/(N-1)))\n",
    "std = math.sqrt(variance)\n",
    "\n",
    "print('\\n')\n",
    "print('---------------HyperGeometric---------------')\n",
    "print(f'Expected value (µ): {my:.5f} --- Variance (σ2): {variance:.5f} --- Standard deviation (σ): {std:.5f}')\n",
    "print(f'Probability of X where {x} ≤ X ≤ {k}: {accu_hyper(N, M, k, x, n, steps)}')\n",
    "#print(f'Probability of X ≥ {k}: {1-accu_hyper(N, M, k-1, x, n, False)}')\n",
    "print('--------------------------------------------')\n",
    "print('\\n')\n",
    "\n",
    "make_graph(N, M, k, x, n,my,variance,std)"
   ]
  }
 ],
 "metadata": {
  "interpreter": {
   "hash": "b0fa6594d8f4cbf19f97940f81e996739fb7646882a419484c72d19e05852a7e"
  },
  "kernelspec": {
   "display_name": "Python 3.9.13 64-bit",
   "language": "python",
   "name": "python3"
  },
  "language_info": {
   "codemirror_mode": {
    "name": "ipython",
    "version": 3
   },
   "file_extension": ".py",
   "mimetype": "text/x-python",
   "name": "python",
   "nbconvert_exporter": "python",
   "pygments_lexer": "ipython3",
   "version": "3.9.13"
  },
  "orig_nbformat": 4
 },
 "nbformat": 4,
 "nbformat_minor": 2
}

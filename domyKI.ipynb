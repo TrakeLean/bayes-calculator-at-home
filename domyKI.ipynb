{
 "cells": [
  {
   "cell_type": "code",
   "execution_count": null,
   "metadata": {},
   "outputs": [],
   "source": [
    "from matplotlib import pyplot as plt\n",
    "import numpy as np\n",
    "import scipy.stats\n",
    "from scipy.stats import t\n",
    "from scipy.stats import chi2\n",
    "import math"
   ]
  },
  {
   "cell_type": "code",
   "execution_count": null,
   "metadata": {},
   "outputs": [],
   "source": [
    "def make_graph(min,max):\n",
    "    # Create the data set\n",
    "    mean_list = []\n",
    "    x_list = []\n",
    "    for x in range(len(min)):\n",
    "        mean = ((min[x]+max[x])/2)\n",
    "        mean_list.append(mean)\n",
    "        x_list.append(x)\n",
    "        plt.vlines(x, min[x],max[x])\n",
    "        plt.scatter(x, mean)\n",
    "    plt.ylabel('Konfidents Intervall')\n",
    "    plt.plot(x_list, mean_list, 'b', linestyle=\"-\")\n",
    "    # Plot the confidence interval\n",
    "    plt.show()"
   ]
  },
  {
   "cell_type": "code",
   "execution_count": null,
   "metadata": {},
   "outputs": [],
   "source": [
    "def find_k(alpha):\n",
    "    for x in range(-4000,4000):\n",
    "        answer = normal_dist(x/1000, False)\n",
    "        if answer == alpha:\n",
    "            #print(f'G(z≤k) = {x/10000}')\n",
    "            return x/1000\n",
    "        if answer-0.0001 == alpha:\n",
    "            #print(f'G(z≤k) = {x/10000}')\n",
    "            return x/1000"
   ]
  },
  {
   "cell_type": "code",
   "execution_count": null,
   "metadata": {},
   "outputs": [],
   "source": [
    "def find_length(alpha,sigma,limit):\n",
    "    z = find_k(alpha)\n",
    "    return math.pow(((2*z*sigma)/limit),2)"
   ]
  },
  {
   "cell_type": "code",
   "execution_count": null,
   "metadata": {},
   "outputs": [],
   "source": [
    "def normal_dist(my, steps):\n",
    "    # KUMULATIV STANDARDNORMALFORDELING N(1,0)\n",
    "    answer = float(f'{scipy.stats.norm.cdf(my,0):.4f}')\n",
    "    # Get the value for G(z) where N(0,1)\n",
    "    if steps:\n",
    "        print(f'G({std}) = P(z<{my}) = {answer:.4f} - {round(answer*100, 2)}%')\n",
    "        print(f'G({std}) = P(z>{my}) = {1-answer:.4f} - {round((1-answer)*100, 2)}%')\n",
    "    return answer"
   ]
  },
  {
   "cell_type": "code",
   "execution_count": null,
   "metadata": {},
   "outputs": [],
   "source": [
    "def find_ki(n,std,alpha,mean,pow_numbers,excepted):\n",
    "    alpha_2 = alpha\n",
    "    if std == None:\n",
    "        t = find_t(alpha,n,pow_numbers,mean,excepted)\n",
    "        s = find_s(pow_numbers,mean)\n",
    "        left = mean - (t*(s/math.sqrt(n)))\n",
    "        right = mean + (t*(s/math.sqrt(n)))\n",
    "        print(f'Estimated std (s): {s}')\n",
    "    else:\n",
    "        alpha = abs(find_k(round((1-alpha)/2,4)))\n",
    "        antstd = std/(math.sqrt(n))\n",
    "        left = mean - (alpha*antstd)\n",
    "        right = mean + (alpha*antstd)\n",
    "\n",
    "    print(f'{alpha_2*100}% KI for µ: [{left:.4f}, {right:.4f}]')"
   ]
  },
  {
   "cell_type": "code",
   "execution_count": null,
   "metadata": {},
   "outputs": [],
   "source": [
    "def find_s(pow_numbers,mean):\n",
    "    emp = 0\n",
    "    for num in pow_numbers:\n",
    "        emp += pow((num-mean),2) \n",
    "    s = math.sqrt(emp/((len(pow_numbers)-1)))\n",
    "    return s\n"
   ]
  },
  {
   "cell_type": "code",
   "execution_count": null,
   "metadata": {},
   "outputs": [],
   "source": [
    "def find_t(alpha,n,pow_numbers,mean,excepted):\n",
    "    s = find_s(pow_numbers,mean)\n",
    "    #t_v = round(t.ppf(alpha,n-1),4)\n",
    "    value = ((mean-excepted)/(s/math.sqrt(n)))\n",
    "    return value"
   ]
  },
  {
   "cell_type": "code",
   "execution_count": null,
   "metadata": {},
   "outputs": [],
   "source": [
    "# Find length\n",
    "sigma = 0.9\n",
    "alpha = 0.95\n",
    "limit = 0.5\n",
    "find_length(alpha,sigma,limit)"
   ]
  },
  {
   "cell_type": "code",
   "execution_count": null,
   "metadata": {},
   "outputs": [],
   "source": [
    "# KONFIDENTSINTERVALL Normalfordelt\n",
    "# H0 : μ ≥excpected mot H1 : μ < 311\n",
    "pow_numbers = [275,280,240,270,230,230,250,280,285,270]\n",
    "n = 10\n",
    "x = 127.33\n",
    "excepted = 0\n",
    "std = 20\n",
    "mean = x/n\n",
    "alpha = .99\n",
    "\n",
    "if len(pow_numbers)>1:\n",
    "    mean = 0\n",
    "    for number in pow_numbers:\n",
    "        mean += number\n",
    "    n = len(pow_numbers)\n",
    "    mean = mean/n\n",
    "    sorted_pow_numbers = sorted(pow_numbers)\n",
    "    median = sorted_pow_numbers[round(n/2)]\n",
    "    nedre = round(n*(1/4))\n",
    "    ovre = round(n*(3/4))\n",
    "\n",
    "    nedre_liste = []\n",
    "    ovre_liste = []\n",
    "    print(f'Median: {median}  -  Mean: {mean}')\n",
    "    for x in range(0,nedre+1):\n",
    "        nedre_liste.append(sorted_pow_numbers[x])\n",
    "    for x in range(ovre-1,len(pow_numbers)):\n",
    "        ovre_liste.append(sorted_pow_numbers[x])\n",
    "    print(f'Nedrekvartil: {nedre_liste}\\nØvrekvartil: {ovre_liste}')\n",
    "    t_value = find_t(alpha,n,pow_numbers,mean,excepted)\n",
    "    print('testobservator T:',t_value)\n",
    "    \n",
    "find_ki(n,std,alpha,mean,pow_numbers,excepted)\n"
   ]
  },
  {
   "cell_type": "code",
   "execution_count": null,
   "metadata": {},
   "outputs": [],
   "source": [
    "min = [100,\n",
    "       110,\n",
    "       130,\n",
    "       120,\n",
    "       110\n",
    "]\n",
    "max = [90,\n",
    "       101,\n",
    "       119,\n",
    "       99,\n",
    "       111\n",
    "]\n",
    "\n",
    "make_graph(min,max)"
   ]
  },
  {
   "cell_type": "code",
   "execution_count": null,
   "metadata": {},
   "outputs": [],
   "source": [
    "def var_and_std_KI(n,s,alpha):\n",
    "    alpha_up = 1-(1 - alpha/100)/2\n",
    "    alpha_down = (1 - alpha/100)/2\n",
    "\n",
    "    xhi_up = chi2.ppf(alpha_down, n)\n",
    "    xhi_down = chi2.ppf(alpha_up, n)\n",
    "\n",
    "    lower = ((n-1)*s)/xhi_down\n",
    "    upper = ((n-1)*s)/xhi_up\n",
    "    print(f'{alpha}% KI for σ2: [{lower:.4f},{upper:.4f}]')\n",
    "    print(f'{alpha}% KI for σ: [{math.sqrt(lower):.4f},{math.sqrt(upper):.4f}]')"
   ]
  },
  {
   "cell_type": "code",
   "execution_count": null,
   "metadata": {},
   "outputs": [],
   "source": [
    "# KI for Variance σ2 and Standard deviation σ\n",
    "n = 261\n",
    "s = 21.4476\n",
    "alpha = 99\n",
    "\n",
    "var_and_std_KI(n,s,alpha)"
   ]
  }
 ],
 "metadata": {
  "interpreter": {
   "hash": "b0fa6594d8f4cbf19f97940f81e996739fb7646882a419484c72d19e05852a7e"
  },
  "kernelspec": {
   "display_name": "Python 3.9.13 64-bit",
   "language": "python",
   "name": "python3"
  },
  "language_info": {
   "codemirror_mode": {
    "name": "ipython",
    "version": 3
   },
   "file_extension": ".py",
   "mimetype": "text/x-python",
   "name": "python",
   "nbconvert_exporter": "python",
   "pygments_lexer": "ipython3",
   "version": "3.9.13"
  },
  "orig_nbformat": 4
 },
 "nbformat": 4,
 "nbformat_minor": 2
}

{
 "cells": [
  {
   "cell_type": "code",
   "execution_count": null,
   "metadata": {},
   "outputs": [],
   "source": [
    "import scipy.stats\n",
    "import math"
   ]
  },
  {
   "cell_type": "code",
   "execution_count": null,
   "metadata": {},
   "outputs": [],
   "source": [
    "def custom_normal_dist(my,std,probability,step):\n",
    "    find_z = round(((probability - my)/std), 5)\n",
    "    variable = [find_z,1]\n",
    "    # KUMULATIV STANDARDNORMALFORDELING\n",
    "    answer = float(f'{scipy.stats.norm.cdf(variable[0],variable[1]-1):.4f}')\n",
    "    # Get the value for G(z) where z is the first value in variable\n",
    "    if step:\n",
    "        print(f'N({my},{std:.4f})')\n",
    "        print(f'G({variable[0]}) = P(z<{variable[0]}) = {answer:.4f} - {round(answer*100, 2)}%')\n",
    "        print(f'G({variable[0]}) = P(z>{variable[0]}) = {1-answer:.4f} - {round((1-answer)*100, 2)}%')\n",
    "    return answer\n",
    "\n",
    "def set_normal_dist(my, std, n, probability, gap):\n",
    "    z = (probability - my) / (std/math.sqrt(n))\n",
    "    z2 = ((probability+gap) - my) / (std/math.sqrt(n))\n",
    "    print(f'Probability of set < {probability}: {normal_dist(z,False):.4f}')\n",
    "    print(f'Probability of set > {probability}: {1-normal_dist(z,False):.4f}')\n",
    "    print(f'Probability of {probability} < set < {probability+gap} : {normal_dist(z2,False)-normal_dist(z,False):.4f}')"
   ]
  },
  {
   "cell_type": "code",
   "execution_count": null,
   "metadata": {},
   "outputs": [],
   "source": [
    "def normal_dist(z, do_print):\n",
    "    # KUMULATIV STANDARDNORMALFORDELING N(1,0)\n",
    "    answer = float(f'{scipy.stats.norm.cdf(z,0):.4f}')\n",
    "    # Get the value for G(z) where N(0,1)\n",
    "    if do_print == True:\n",
    "        print(f'G({z}) = P(z≤{z}) = {answer:.4f} - {round(answer*100, 2)}%')\n",
    "        print(f'G({z}) = P(z>{z}) = {1-answer:.4f} - {round((1-answer)*100, 2)}%')\n",
    "    return answer"
   ]
  },
  {
   "cell_type": "code",
   "execution_count": null,
   "metadata": {},
   "outputs": [],
   "source": [
    "def find_k(kvantil):\n",
    "    #kvantil = round(kvantil,4)\n",
    "    for x in range(-3,3500):\n",
    "        answer = normal_dist(x/1000, False)\n",
    "        #print(answer)\n",
    "        if answer == 1-kvantil:\n",
    "            return x/1000"
   ]
  },
  {
   "cell_type": "code",
   "execution_count": null,
   "metadata": {},
   "outputs": [],
   "source": [
    "def find_leftandright(my, std, kvantil):\n",
    "    k = find_k(kvantil)\n",
    "    a = round(my - (k * std), 4)\n",
    "    b = round(my + (k * std), 4)\n",
    "    return [a,b]"
   ]
  },
  {
   "cell_type": "code",
   "execution_count": null,
   "metadata": {},
   "outputs": [],
   "source": [
    "def sentralgrenseteorem(n,my,var,probability):\n",
    "    std = math.sqrt(var) / math.sqrt(n)\n",
    "    n = var / n\n",
    "    custom_normal_dist(my,std, probability, False)"
   ]
  },
  {
   "cell_type": "code",
   "execution_count": null,
   "metadata": {},
   "outputs": [],
   "source": [
    "# Spredningsintervall (spread) sjanse for at neste obeserverte\n",
    "# verdi skal ligge i spreadnings intervallet, fra a til b\n",
    "my = 0\n",
    "std = 1\n",
    "spread = 0.95\n",
    "print(f'for N({my},{std}) where spread: {spread*100}% | a: {find_leftandright(my,std,(1-spread)/2)[0]} - b: {find_leftandright(my,std,(1-spread)/2)[1]}')"
   ]
  },
  {
   "cell_type": "code",
   "execution_count": null,
   "metadata": {},
   "outputs": [],
   "source": [
    "# Reverse z lookup, find k (z) N(0,1) TO THE RIGHT\n",
    "kvantil = 0.025\n",
    "#print(f'P(z>k) = {find_k(kvantil)}')"
   ]
  },
  {
   "cell_type": "code",
   "execution_count": null,
   "metadata": {},
   "outputs": [],
   "source": [
    "# Sentralgrenseteorem hvis datamaterialet er større enn 25, så kan denne brukes\n",
    "n = 25\n",
    "my = 0\n",
    "var = 1\n",
    "probability = 0.22\n",
    "sentralgrenseteorem(n,my,var,probability)"
   ]
  },
  {
   "cell_type": "code",
   "execution_count": 23,
   "metadata": {},
   "outputs": [
    {
     "name": "stdout",
     "output_type": "stream",
     "text": [
      "N(1.1,0.2000)\n",
      "G(-0.5) = P(z<-0.5) = 0.3085 - 30.85%\n",
      "G(-0.5) = P(z>-0.5) = 0.6915 - 69.15%\n",
      "0.6247\n"
     ]
    }
   ],
   "source": [
    "# Normalfordeling med custom center og std\n",
    "my = 1.1\n",
    "std = 0.2\n",
    "probability = 1\n",
    "custom_normal_dist(my,std,probability, True)\n",
    "between = custom_normal_dist(my,std,1.2,False) - custom_normal_dist(my,std,0.8,False)\n",
    "print(between)"
   ]
  },
  {
   "cell_type": "code",
   "execution_count": 24,
   "metadata": {},
   "outputs": [
    {
     "name": "stdout",
     "output_type": "stream",
     "text": [
      "G(0) = P(z≤0) = 0.5000 - 50.0%\n",
      "G(0) = P(z>0) = 0.5000 - 50.0%\n"
     ]
    },
    {
     "data": {
      "text/plain": [
       "0.5"
      ]
     },
     "execution_count": 24,
     "metadata": {},
     "output_type": "execute_result"
    }
   ],
   "source": [
    "# Normalfordleing hvor N(0,1)\n",
    "normal_dist(0, True)"
   ]
  },
  {
   "cell_type": "code",
   "execution_count": 25,
   "metadata": {},
   "outputs": [
    {
     "name": "stdout",
     "output_type": "stream",
     "text": [
      "Probability of set < 1.0: 0.0569\n",
      "Probability of set > 1.0: 0.9431\n",
      "Probability of 1.0 < set < 1.2 : 0.8862\n"
     ]
    }
   ],
   "source": [
    "# Finn sannsnylighet for at eks vekta av 10 fisker er mer enn 1.2kg\n",
    "my = 1.1\n",
    "std = 0.2\n",
    "n = 10\n",
    "probability = 1.0\n",
    "gap = 0.2\n",
    "set_normal_dist(my, std, n, probability, gap)"
   ]
  }
 ],
 "metadata": {
  "interpreter": {
   "hash": "b0fa6594d8f4cbf19f97940f81e996739fb7646882a419484c72d19e05852a7e"
  },
  "kernelspec": {
   "display_name": "Python 3.9.13 64-bit",
   "language": "python",
   "name": "python3"
  },
  "language_info": {
   "codemirror_mode": {
    "name": "ipython",
    "version": 3
   },
   "file_extension": ".py",
   "mimetype": "text/x-python",
   "name": "python",
   "nbconvert_exporter": "python",
   "pygments_lexer": "ipython3",
   "version": "3.9.13"
  },
  "orig_nbformat": 4
 },
 "nbformat": 4,
 "nbformat_minor": 2
}

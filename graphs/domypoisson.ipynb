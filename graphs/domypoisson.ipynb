{
 "cells": [
  {
   "cell_type": "code",
   "execution_count": 17,
   "metadata": {},
   "outputs": [],
   "source": [
    "import math\n",
    "import matplotlib.pyplot as plt"
   ]
  },
  {
   "cell_type": "code",
   "execution_count": 18,
   "metadata": {},
   "outputs": [],
   "source": [
    "def make_graph(lmbd, t, x, k, flip):\n",
    "    range_ = []\n",
    "    data = []\n",
    "    custom_color = []\n",
    "    if flip:\n",
    "        sum = 1-poisson(lmbd,t,x,k-1,False)\n",
    "    else:\n",
    "        sum = poisson(lmbd,t,x,k,False)\n",
    "        \n",
    "    length = find_length(lmbd,t)\n",
    "\n",
    "    # Get data\n",
    "    for i in range(0, length):\n",
    "        data.append(single_poisson(lmbd, t, i))\n",
    "        range_.append(i)\n",
    "        # Show highligthed colors\n",
    "        if flip:\n",
    "            if k <= i <= length:\n",
    "                custom_color.append('green')\n",
    "            else:\n",
    "                custom_color.append('red')\n",
    "        else:\n",
    "            if x <= i <= k:\n",
    "                custom_color.append('green')\n",
    "            else:\n",
    "                custom_color.append('red')\n",
    "    # plotting chart\n",
    "    plt.bar(range_, data, tick_label = range_,\n",
    "            width = 0.7, color = custom_color)\n",
    "    # Add numbers to bars\n",
    "    for i in range(len(data)):\n",
    "        if data[i] > 0.000009:\n",
    "            plt.annotate(str(f'{data[i]:.5f}'), xy=(range_[i],data[i]), ha='center', va='bottom')\n",
    "    # naming the x-axis\n",
    "    plt.xlabel(f'P({x}≤X≤{k}): {sum:.4f} --- µ: {lmbd*t:.4f} --- σ2: {lmbd:.4f} --- σ: {math.sqrt(lmbd):.4f}')\n",
    "    # y-axis\n",
    "    plt.ylabel(f'P(X=k)')\n",
    "    # title\n",
    "    plt.title('Poisson distribution!')\n",
    "    # show the plot\n",
    "    plt.show()"
   ]
  },
  {
   "cell_type": "code",
   "execution_count": 19,
   "metadata": {},
   "outputs": [],
   "source": [
    "def find_length(lmbd, t):\n",
    "  steps = 0\n",
    "  answer = 0\n",
    "  while answer <= 0.99999:\n",
    "      answer += (pow(math.e, -(lmbd*t)) * pow(lmbd*t, steps))/math.factorial(steps)\n",
    "      steps += 1\n",
    "  return steps"
   ]
  },
  {
   "cell_type": "code",
   "execution_count": 20,
   "metadata": {},
   "outputs": [],
   "source": [
    "def single_poisson(lmbd, t, x):\n",
    "    answer = (pow(math.e, -(lmbd*t)) * pow(lmbd*t, x))/math.factorial(x)\n",
    "    return answer"
   ]
  },
  {
   "cell_type": "code",
   "execution_count": 21,
   "metadata": {},
   "outputs": [],
   "source": [
    "def poisson(lmbd, t, x, k, steps):\n",
    "    answer = 0\n",
    "    for x in range (x ,k+1):\n",
    "        new_answer = (pow(math.e, -(lmbd*t)) * pow(lmbd*t, x))/math.factorial(x)\n",
    "        if steps:\n",
    "            print(f'Probability of X = {x}: {new_answer:.5f}')\n",
    "        answer += new_answer\n",
    "    return answer"
   ]
  },
  {
   "cell_type": "code",
   "execution_count": 27,
   "metadata": {},
   "outputs": [
    {
     "name": "stdout",
     "output_type": "stream",
     "text": [
      "---------------POISSON---------------\n",
      "Expected value (µ): 0.5532 --- Variance σ2: 0.5532 ---Standard deviation σ: 0.7438\n",
      "Probability (x = 1): 0.31814892787187626\n",
      "Probability of (1 ≤ X ≤ 1): 0.31814892787187626\n",
      "-------------------------------------\n"
     ]
    },
    {
     "data": {
      "image/png": "[encoded data removed]",
      "text/plain": [
       "<Figure size 432x288 with 1 Axes>"
      ]
     },
     "metadata": {
      "needs_background": "light"
     },
     "output_type": "display_data"
    }
   ],
   "source": [
    "\n",
    "# My = lambda*t \n",
    "# Var = sqrt(my)\n",
    "# Normaltilnærming om var ≥ 20\n",
    "# Lmbd / Lambda / k\n",
    "# T given time\n",
    "lmbd = 0.5532\n",
    "t = 1\n",
    "# From\n",
    "x = 1\n",
    "# To\n",
    "k = 1\n",
    "\n",
    "flip = False\n",
    "\n",
    "\n",
    "print('---------------POISSON---------------')\n",
    "print(f'Expected value (µ): {lmbd*t:.4f} --- Variance σ2: {lmbd:.4f} ---Standard deviation σ: {math.sqrt(lmbd):.4f}')\n",
    "print(f'Probability (x = {k}): {single_poisson(lmbd,t,k)}')\n",
    "if flip:\n",
    "    print(f'Probability (x ≥ {k}): {1-poisson(lmbd, t, x, k-1, False)}')\n",
    "else:\n",
    "    print(f'Probability of ({x} ≤ X ≤ {k}): {poisson(lmbd, t, x, k, False)}')\n",
    "print('-------------------------------------') \n",
    "make_graph(lmbd, t, x, k, flip)"
   ]
  }
 ],
 "metadata": {
  "interpreter": {
   "hash": "b0fa6594d8f4cbf19f97940f81e996739fb7646882a419484c72d19e05852a7e"
  },
  "kernelspec": {
   "display_name": "Python 3.9.13 64-bit",
   "language": "python",
   "name": "python3"
  },
  "language_info": {
   "codemirror_mode": {
    "name": "ipython",
    "version": 3
   },
   "file_extension": ".py",
   "mimetype": "text/x-python",
   "name": "python",
   "nbconvert_exporter": "python",
   "pygments_lexer": "ipython3",
   "version": "3.9.13"
  },
  "orig_nbformat": 4
 },
 "nbformat": 4,
 "nbformat_minor": 2
}

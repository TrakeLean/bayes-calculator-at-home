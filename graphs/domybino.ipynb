{
 "cells": [
  {
   "cell_type": "code",
   "execution_count": null,
   "metadata": {},
   "outputs": [],
   "source": [
    "import math\n",
    "import matplotlib.pyplot as plt"
   ]
  },
  {
   "cell_type": "code",
   "execution_count": null,
   "metadata": {},
   "outputs": [],
   "source": [
    "def make_graph(n,p,k,x,my,variance,std,flip):\n",
    "    \n",
    "    range_ = []\n",
    "    data = []\n",
    "    custom_color = []\n",
    "    if flip:\n",
    "        sum = 1-accu_bino(n,p,k-1,x,False)\n",
    "    else:\n",
    "        sum = accu_bino(n,p,k,x,False)\n",
    "    length = find_length(n, p)\n",
    "    # Get data\n",
    "    for i in range(0, length):\n",
    "        data.append(single_bino(n,p,i))\n",
    "        range_.append(i)\n",
    "        # Show highligthed colors\n",
    "        if flip:\n",
    "            if k <= i <= length:\n",
    "                custom_color.append('green')\n",
    "            else:\n",
    "                custom_color.append('red')\n",
    "        else:\n",
    "            if x <= i <= k:\n",
    "                custom_color.append('green')\n",
    "            else:\n",
    "                custom_color.append('red')\n",
    "        # plotting chart\n",
    "    plt.bar(range_, data, tick_label = range_,\n",
    "            width = 0.7, color = custom_color)\n",
    "    # Add numbers to bars\n",
    "    for i in range(len(data)):\n",
    "        if data[i] > 0.000009:\n",
    "            plt.annotate(str(f'{data[i]:.5f}'), xy=(range_[i],data[i]), ha='center', va='bottom')\n",
    "    # naming the x-axis\n",
    "    if flip:\n",
    "        plt.xlabel(f'P(x≥{k}): {sum:.4f} --- µ: {my:.4f} --- σ2: {variance:.4f} --- σ: {std:.4f}')\n",
    "    else:\n",
    "        plt.xlabel(f'P({x}≤X≤{k}): {sum:.4f} --- µ: {my:.4f} --- σ2: {variance:.4f} --- σ: {std:.4f}')\n",
    "    # y-axis\n",
    "    plt.ylabel(f'P(X=k)')\n",
    "    # title\n",
    "    plt.title('Binomial distribution!')\n",
    "    # show the plot\n",
    "    plt.show()"
   ]
  },
  {
   "cell_type": "code",
   "execution_count": null,
   "metadata": {},
   "outputs": [],
   "source": [
    "def find_length(n, p):\n",
    "    steps = 0\n",
    "    answer = 0\n",
    "    while answer <= 0.99999:\n",
    "        answer += (math.factorial(n) / (math.factorial(n-steps) * math.factorial(steps))) * math.pow(p,steps) * math.pow(1-p, n-steps)\n",
    "        steps += 1\n",
    "    return steps"
   ]
  },
  {
   "cell_type": "code",
   "execution_count": null,
   "metadata": {},
   "outputs": [],
   "source": [
    "def single_bino(n, p, k):\n",
    "    answer = (math.factorial(n) / (math.factorial(n-k) * math.factorial(k))) * math.pow(p,k) * math.pow(1-p, n-k)\n",
    "    return answer"
   ]
  },
  {
   "cell_type": "code",
   "execution_count": null,
   "metadata": {},
   "outputs": [],
   "source": [
    "def flip_accu_bino(n, p, k, x, steps):\n",
    "    answer = 0\n",
    "    for x in range (x ,k+1):\n",
    "        new_answer = (math.factorial(n) / (math.factorial(n-x) * math.factorial(x))) * math.pow(p,x) * math.pow(1-p, n-x)\n",
    "        if steps:\n",
    "            print(f'Probability of X = {x}: {new_answer:.5f}')\n",
    "        answer += new_answer\n",
    "    return answer"
   ]
  },
  {
   "cell_type": "code",
   "execution_count": null,
   "metadata": {},
   "outputs": [],
   "source": [
    "def accu_bino(n, p, k, x, steps):\n",
    "    answer = 0\n",
    "    for x in range (x ,k+1):\n",
    "        new_answer = (math.factorial(n) / (math.factorial(n-x) * math.factorial(x))) * math.pow(p,x) * math.pow(1-p, n-x)\n",
    "        if steps:\n",
    "            print(f'Probability of X = {x}: {new_answer:.5f}')\n",
    "        answer += new_answer\n",
    "    return answer"
   ]
  },
  {
   "cell_type": "code",
   "execution_count": 85,
   "metadata": {},
   "outputs": [
    {
     "name": "stdout",
     "output_type": "stream",
     "text": [
      "---------------BINOMIAL---------------\n",
      "Expected value (µ): 1.00000 --- Variance (σ2): 0.80000 --- Standard deviation (σ): 0.89443\n",
      "Probability of X = 1: 0.4096000000000001\n",
      "Probability of X where 0 ≤ X ≤ 1: 0.7372800000000002\n",
      "--------------------------------------\n"
     ]
    },
    {
     "data": {
      "image/png": "[encoded data removed]",
      "text/plain": [
       "<Figure size 432x288 with 1 Axes>"
      ]
     },
     "metadata": {
      "needs_background": "light"
     },
     "output_type": "display_data"
    }
   ],
   "source": [
    "\n",
    "# N = number of trials\n",
    "# P = probability of success\n",
    "# X = loop while x≤k\n",
    "# K = number of K for a specific outcome within N trials\n",
    "# Steps = show each step of the calculation? True or False\n",
    "n = 5\n",
    "p = 0.2\n",
    "# From\n",
    "x = 0\n",
    "# To\n",
    "k = 1\n",
    "\n",
    "flip = False\n",
    "\n",
    "my = n*p\n",
    "variance = my * (1-p)\n",
    "std = math.sqrt(variance)\n",
    "\n",
    "\n",
    "print('---------------BINOMIAL---------------')\n",
    "print(f'Expected value (µ): {my:.5f} --- Variance (σ2): {variance:.5f} --- Standard deviation (σ): {std:.5f}')\n",
    "print(f'Probability of X = {k}: {single_bino(n,p,k)}')\n",
    "if flip:\n",
    "    print(f'Probability of X ≥ {k}: {1-flip_accu_bino(n,p,k-1,x,False)}')\n",
    "else:\n",
    "    print(f'Probability of X where {x} ≤ X ≤ {k}: {accu_bino(n,p,k,x,False)}')\n",
    "print('--------------------------------------')\n",
    "make_graph(n,p,k,x,my,variance,std,flip)"
   ]
  }
 ],
 "metadata": {
  "interpreter": {
   "hash": "b0fa6594d8f4cbf19f97940f81e996739fb7646882a419484c72d19e05852a7e"
  },
  "kernelspec": {
   "display_name": "Python 3.9.13 64-bit",
   "language": "python",
   "name": "python3"
  },
  "language_info": {
   "codemirror_mode": {
    "name": "ipython",
    "version": 3
   },
   "file_extension": ".py",
   "mimetype": "text/x-python",
   "name": "python",
   "nbconvert_exporter": "python",
   "pygments_lexer": "ipython3",
   "version": "3.9.13"
  },
  "orig_nbformat": 4
 },
 "nbformat": 4,
 "nbformat_minor": 2
}

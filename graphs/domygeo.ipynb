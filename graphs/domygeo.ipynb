{
 "cells": [
  {
   "cell_type": "code",
   "execution_count": 3,
   "metadata": {},
   "outputs": [],
   "source": [
    "import math\n",
    "import matplotlib.pyplot as plt"
   ]
  },
  {
   "cell_type": "code",
   "execution_count": 22,
   "metadata": {},
   "outputs": [],
   "source": [
    "def make_graph(y,var,k,flip):\n",
    "    \n",
    "    range_ = []\n",
    "    data = []\n",
    "    custom_color = []\n",
    "    if flip:\n",
    "        sum = 1-accu_geometric(y,p,k-1,False)\n",
    "    else:\n",
    "        sum = accu_geometric(y,p,k,False)\n",
    "    length = find_length(k,p)\n",
    "    # Get data\n",
    "    for i in range(0, length):\n",
    "        data.append(single_geometric(i,p))\n",
    "        range_.append(i)\n",
    "        # Show highligthed colors\n",
    "        if flip:\n",
    "            if k <= i <= length:\n",
    "                custom_color.append('green')\n",
    "            else:\n",
    "                custom_color.append('red')\n",
    "        else:\n",
    "            if y <= i <= k:\n",
    "                custom_color.append('green')\n",
    "            else:\n",
    "                custom_color.append('red')\n",
    "        # plotting chart\n",
    "    plt.bar(range_, data, tick_label = range_,\n",
    "            width = 0.7, color = custom_color)\n",
    "    # Add numbers to bars\n",
    "    for i in range(len(data)):\n",
    "        if data[i] > 0.000009:\n",
    "            plt.annotate(str(f'{data[i]:.5f}'), xy=(range_[i],data[i]), ha='center', va='bottom')\n",
    "    # naming the x-axis\n",
    "    if flip:\n",
    "        plt.xlabel(f'P(x≥{k}): {sum:.4f} --- µ: {my:.4f} --- σ2: {var:.4f} --- σ: {std:.4f}')\n",
    "    else:\n",
    "        plt.xlabel(f'P({y}≤X≤{k}): {sum:.4f} --- µ: {my:.4f} --- σ2: {var:.4f} --- σ: {std:.4f}')\n",
    "    # y-axis\n",
    "    plt.ylabel(f'P(X=k)')\n",
    "    # title\n",
    "    plt.title('Binomial distribution!')\n",
    "    # show the plot\n",
    "    plt.show()"
   ]
  },
  {
   "cell_type": "code",
   "execution_count": 12,
   "metadata": {},
   "outputs": [],
   "source": [
    "def find_length(k,p):\n",
    "    steps = 0\n",
    "    answer = 0\n",
    "    while answer <= 0.99999:\n",
    "        answer += single_geometric(k,p)\n",
    "        steps += 1\n",
    "    return steps"
   ]
  },
  {
   "cell_type": "code",
   "execution_count": 6,
   "metadata": {},
   "outputs": [],
   "source": [
    "def accu_geometric(y,p,k,steps):\n",
    "    answer = 0\n",
    "    for x in range(y,k+1):\n",
    "        new_answer = single_geometric(x,p)\n",
    "        if steps:\n",
    "            print(f'Probability of Y = {x}: {new_answer:.5f}')\n",
    "        answer += new_answer\n",
    "    return answer"
   ]
  },
  {
   "cell_type": "code",
   "execution_count": 7,
   "metadata": {},
   "outputs": [],
   "source": [
    "def single_geometric(k,p):\n",
    "    answer = pow((1-p),k)*p\n",
    "    return answer"
   ]
  },
  {
   "cell_type": "code",
   "execution_count": 25,
   "metadata": {},
   "outputs": [
    {
     "name": "stdout",
     "output_type": "stream",
     "text": [
      "---------------Geometric---------------\n",
      "Expected value (µ): 12.00000 --- Variance (σ2): 156.00000 --- Standard deviation (σ): 12.49000\n",
      "Probability of X: Y = 5: 0.051552070942561416\n",
      "Probability of X: Y ≥ 5: 0.6701769222801055\n",
      "---------------------------------------\n"
     ]
    },
    {
     "data": {
      "image/png": "[encoded data removed]",
      "text/plain": [
       "<Figure size 432x288 with 1 Axes>"
      ]
     },
     "metadata": {
      "needs_background": "light"
     },
     "output_type": "display_data"
    }
   ],
   "source": [
    "# Geometric where X is number of failures before success\n",
    "p = 0.07692307692\n",
    "# From\n",
    "y = 0\n",
    "# To\n",
    "k = 5\n",
    "\n",
    "flip = True\n",
    "\n",
    "my = (1-p)/p\n",
    "var = (1-p)/(pow(p,2))\n",
    "std = math.sqrt(var)\n",
    "\n",
    "print('---------------Geometric---------------')\n",
    "print(f'Expected value (µ): {my:.5f} --- Variance (σ2): {var:.5f} --- Standard deviation (σ): {std:.5f}')\n",
    "print(f'Probability of X: Y = {k}: {single_geometric(k,p)}')\n",
    "if flip:\n",
    "    print(f'Probability of X: Y ≥ {k}: {1-accu_geometric(y,p,k-1,False)}')\n",
    "else:\n",
    "    print(f'Probability of X: {y} ≤ Y ≤ {k}: {accu_geometric(y,p,k,False)}')\n",
    "print('---------------------------------------')      \n",
    "make_graph(y,var,k,flip)"
   ]
  }
 ],
 "metadata": {
  "interpreter": {
   "hash": "b0fa6594d8f4cbf19f97940f81e996739fb7646882a419484c72d19e05852a7e"
  },
  "kernelspec": {
   "display_name": "Python 3.9.13 64-bit",
   "language": "python",
   "name": "python3"
  },
  "language_info": {
   "codemirror_mode": {
    "name": "ipython",
    "version": 3
   },
   "file_extension": ".py",
   "mimetype": "text/x-python",
   "name": "python",
   "nbconvert_exporter": "python",
   "pygments_lexer": "ipython3",
   "version": "3.9.13"
  },
  "orig_nbformat": 4
 },
 "nbformat": 4,
 "nbformat_minor": 2
}

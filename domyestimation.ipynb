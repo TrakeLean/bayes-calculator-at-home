{
 "cells": [
  {
   "cell_type": "code",
   "execution_count": null,
   "metadata": {},
   "outputs": [],
   "source": [
    "import math\n",
    "import scipy.stats"
   ]
  },
  {
   "cell_type": "code",
   "execution_count": null,
   "metadata": {},
   "outputs": [],
   "source": [
    "def find_k(kvantil):\n",
    "    #kvantil = round(kvantil,4)\n",
    "    for x in range(-4000,4000):\n",
    "        answer = normal_dist(x/1000, False)\n",
    "        if answer == kvantil:\n",
    "            print(f'G(z≤k) = {x/10000}')\n",
    "            return x/10000\n",
    "        if answer-0.0001 == kvantil:\n",
    "            print(f'G(z≤k) = {x/10000}')\n",
    "            return x/10000"
   ]
  },
  {
   "cell_type": "code",
   "execution_count": null,
   "metadata": {},
   "outputs": [],
   "source": [
    "def normal_dist(my, steps):\n",
    "    # KUMULATIV STANDARDNORMALFORDELING N(1,0)\n",
    "    answer = float(f'{scipy.stats.norm.cdf(my,0):.4f}')\n",
    "    # Get the value for G(z) where N(0,1)\n",
    "    if steps:\n",
    "        print(f'G({std}) = P(z<{my}) = {answer:.4f} - {round(answer*100, 2)}%')\n",
    "        print(f'G({std}) = P(z>{my}) = {1-answer:.4f} - {round((1-answer)*100, 2)}%')\n",
    "    return answer"
   ]
  },
  {
   "cell_type": "code",
   "execution_count": null,
   "metadata": {},
   "outputs": [],
   "source": [
    "def do_poisson(lmbd,std, y, alpha):\n",
    "    if lmbd*t>=10:\n",
    "        print(f'((λ * t): {lmbd*t} ≥ 10)')\n",
    "        z = find_k(alpha)\n",
    "        print(f'Poisson: ({lmbd:.4f},{p}) ---> Normal({lmbd*y:.4f},{math.sqrt(lmbd*y):.4f})')\n",
    "        lower = lmbd - (z) * std\n",
    "        upper = lmbd + (z) * std\n",
    "        print(f'{alpha}% KI for λ: [{lower:.4f},{upper:.4f}]')"
   ]
  },
  {
   "cell_type": "code",
   "execution_count": null,
   "metadata": {},
   "outputs": [],
   "source": [
    "def do_poisson_est(lmbd,t, steps):\n",
    "    var = math.sqrt(lmbd/t)\n",
    "    seP = math.sqrt((lmbd*t)/math.pow(t,2))\n",
    "    if steps:\n",
    "        print(f'\\nEstimated lambda (λ): {lmbd:.4f}\\nVariance (σ2) {var:.4f}\\nEstimated Standard deviation (σ): {seP:.4f}\\n')\n",
    "    else:\n",
    "        return [var, seP]"
   ]
  },
  {
   "cell_type": "code",
   "execution_count": null,
   "metadata": {},
   "outputs": [],
   "source": [
    "# Expected value (µ): {my:.5f}\n",
    "# Variance (σ2): {variance:.5f}\n",
    "# Standard deviation (σ): {std:.5f}')"
   ]
  },
  {
   "cell_type": "code",
   "execution_count": null,
   "metadata": {},
   "outputs": [],
   "source": [
    "# Binomial Estimation\n",
    "# Eks 23 syk av 300\n",
    "# P = sannsynlighet for  å bli smittet bland de 300\n",
    "# G(-1.3000) = P(z<-1.3000) = 0.0968 - 9.68% chance of getting sick \n",
    "n = 25\n",
    "x = 14\n",
    "\n",
    "alpha = 95\n",
    "\n",
    "p = x/n\n",
    "#p = 0.5\n",
    "#std = (math.sqrt(n*p*(1-p)))\n",
    "std = math.sqrt(p*(1-p)/n)\n",
    "\n",
    "print(f'Estimated My (µ): {p:.4f}\\n')\n",
    "check = n*p*(1-p)\n",
    "if check>5:\n",
    "    print(f'SE(p) Estimated Standard deviation (σ): {std:.4f}')\n",
    "    print(f'\\nBinomal({n:.4f},{p:.4f}) ---> Normal({n*p:.4f},{n*p*(1-p):.4f})')\n",
    "    lower = p - find_k(alpha) * std\n",
    "    upper = p + find_k(alpha) * std\n",
    "    print(f'{alpha}% KI: [{lower:.4f},{upper:.4f}]')\n"
   ]
  },
  {
   "cell_type": "code",
   "execution_count": null,
   "metadata": {},
   "outputs": [],
   "source": [
    "# Poisson Multiple events over time til normal\n",
    "events = [0,1,2,3]\n",
    "time = [0.05,0.25,0.5,0.2]\n",
    "\n",
    "y = len(events)\n",
    "x = 0\n",
    "t = 0\n",
    "for i in range(len(events)):\n",
    "    x+=time[i]*events[i]\n",
    "    t+=time[i]\n",
    "lmbd = x/t\n",
    "do_poisson_est(lmbd, t, True)"
   ]
  },
  {
   "cell_type": "code",
   "execution_count": null,
   "metadata": {},
   "outputs": [],
   "source": [
    "# Poisson Single numbers til normal\n",
    "# y hendelser over t tiden (y = y1+y2+y3, t = 3)\n",
    "# Estimated lambda (λ): 5.5000 estimated 5.5 tornadoes withinh 11 years\n",
    "# G(2.3452) = P(z<2.3452) = 0.9542 - 95.42% chance of a tornado within 2.34 years\n",
    "t = 47\n",
    "y = 26\n",
    "alpha = 0.95\n",
    "# Get data from cell 1 over\n",
    "lmbd = y/t\n",
    "\n",
    "var, seP = do_poisson_est(lmbd, t, False)\n",
    "do_poisson(lmbd, seP, y, alpha)"
   ]
  }
 ],
 "metadata": {
  "interpreter": {
   "hash": "b0fa6594d8f4cbf19f97940f81e996739fb7646882a419484c72d19e05852a7e"
  },
  "kernelspec": {
   "display_name": "Python 3.9.13 64-bit",
   "language": "python",
   "name": "python3"
  },
  "language_info": {
   "codemirror_mode": {
    "name": "ipython",
    "version": 3
   },
   "file_extension": ".py",
   "mimetype": "text/x-python",
   "name": "python",
   "nbconvert_exporter": "python",
   "pygments_lexer": "ipython3",
   "version": "3.9.13"
  },
  "orig_nbformat": 4
 },
 "nbformat": 4,
 "nbformat_minor": 2
}

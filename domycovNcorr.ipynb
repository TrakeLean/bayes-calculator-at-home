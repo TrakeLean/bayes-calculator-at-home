{
 "cells": [
  {
   "cell_type": "code",
   "execution_count": null,
   "metadata": {},
   "outputs": [],
   "source": [
    "import numpy"
   ]
  },
  {
   "cell_type": "code",
   "execution_count": 1,
   "metadata": {},
   "outputs": [],
   "source": [
    "def covariance(x, y):\n",
    "    # Finding the mean of the series x and y\n",
    "    mean_x = sum(x)/float(len(x))\n",
    "    mean_y = sum(y)/float(len(y))\n",
    "    # Subtracting mean from the individual elements\n",
    "    sub_x = [i - mean_x for i in x]\n",
    "    sub_y = [i - mean_y for i in y]\n",
    "    numerator = sum([sub_x[i]*sub_y[i] for i in range(len(sub_x))])\n",
    "    denominator = len(x)-1\n",
    "    cov = numerator/denominator\n",
    "    return cov"
   ]
  },
  {
   "cell_type": "code",
   "execution_count": 2,
   "metadata": {},
   "outputs": [],
   "source": [
    "def correlation(x, y):\n",
    "    # Finding the mean of the series x and y\n",
    "    mean_x = sum(x)/float(len(x))\n",
    "    mean_y = sum(y)/float(len(y))\n",
    "    # Subtracting mean from the individual elements\n",
    "    sub_x = [i-mean_x for i in x]\n",
    "    sub_y = [i-mean_y for i in y]\n",
    "    # covariance for x and y\n",
    "    numerator = sum([sub_x[i]*sub_y[i] for i in range(len(sub_x))])\n",
    "    # Standard Deviation of x and y\n",
    "    std_deviation_x = sum([sub_x[i]**2.0 for i in range(len(sub_x))])\n",
    "    std_deviation_y = sum([sub_y[i]**2.0 for i in range(len(sub_y))])\n",
    "    # squaring by 0.5 to find the square root\n",
    "    denominator = (std_deviation_x*std_deviation_y)**0.5 # short but equivalent to (std_deviation_x**0.5) * (std_deviation_y**0.5)\n",
    "    cor = numerator/denominator\n",
    "    return cor"
   ]
  },
  {
   "cell_type": "code",
   "execution_count": 3,
   "metadata": {},
   "outputs": [
    {
     "name": "stdout",
     "output_type": "stream",
     "text": [
      "0.032838059999999995\n",
      "0.4868411262512278\n"
     ]
    }
   ],
   "source": [
    "x = [0.3231, 0.4561, 0.1955, 0.0253]\n",
    "y = [0.7826, 0.2041, 0.0131, 0.0002]\n",
    "\n",
    "# x2 = [\n",
    "#     [0.4, 0.1, 0.1, 0.1, 0.0, 0.0],\n",
    "#     [0.1, 0.1, 0.0, 0.0, 0.0, 0.0],\n",
    "#     [0.5, 0.0, 0.0, 0.0, 0.0, 0.0],\n",
    "#     [0.5, 0.0, 0.0, 0.0, 0.0, 0.0],\n",
    "#     [0.0, 0.0, 0.0, 0.0, 0.0, 0.0],\n",
    "#     [0.0, 0.0, 0.0, 0.0, 0.0, 0.0]\n",
    "#     ]\n",
    "# y2 = [\n",
    "#     [0.4, 0.1, 0.05, 0.05, 0.0, 0.0],\n",
    "#     [0.1, 0.1, 0.0, 0.0, 0.0, 0.0],\n",
    "#     [0.1, 0.0, 0.0, 0.0, 0.0, 0.0],\n",
    "#     [0.1, 0.0, 0.0, 0.0, 0.0, 0.0],\n",
    "#     [0.0, 0.0, 0.0, 0.0, 0.0, 0.0],\n",
    "#     [0.0, 0.0, 0.0, 0.0, 0.0, 0.0]\n",
    "#     ]\n",
    "\n",
    "\n",
    "#https://mediasite.uit.no/Mediasite/Play/a9d42dea84f945a2b4be765fd95b17b01d\n",
    "\n",
    "print(covariance(x,y))\n",
    "print(correlation(x,y))\n"
   ]
  }
 ],
 "metadata": {
  "interpreter": {
   "hash": "b0fa6594d8f4cbf19f97940f81e996739fb7646882a419484c72d19e05852a7e"
  },
  "kernelspec": {
   "display_name": "Python 3.9.13 64-bit",
   "language": "python",
   "name": "python3"
  },
  "language_info": {
   "codemirror_mode": {
    "name": "ipython",
    "version": 3
   },
   "file_extension": ".py",
   "mimetype": "text/x-python",
   "name": "python",
   "nbconvert_exporter": "python",
   "pygments_lexer": "ipython3",
   "version": "3.9.13"
  },
  "orig_nbformat": 4
 },
 "nbformat": 4,
 "nbformat_minor": 2
}

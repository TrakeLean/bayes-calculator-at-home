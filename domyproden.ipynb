{
 "cells": [
  {
   "cell_type": "code",
   "execution_count": 4,
   "metadata": {},
   "outputs": [],
   "source": [
    "import math"
   ]
  },
  {
   "cell_type": "code",
   "execution_count": 5,
   "metadata": {},
   "outputs": [],
   "source": [
    "def accu_proden(lmbd, t):\n",
    "    answer = 1-pow(math.e, -(lmbd*t))\n",
    "    return answer"
   ]
  },
  {
   "cell_type": "code",
   "execution_count": 6,
   "metadata": {},
   "outputs": [
    {
     "name": "stdout",
     "output_type": "stream",
     "text": [
      "\n",
      "\n",
      "Expected value (µ): 5.7013 --- Variance σ2: 32.5043 ---Standard deviation σ: 5.7013\n",
      "P(T≤1) = 0.16087869489149198\n",
      "\n",
      "\n"
     ]
    }
   ],
   "source": [
    "lmbd = 0.1754\n",
    "# Time, like how long a lightbulb works (5000hours)\n",
    "t = 1\n",
    "\n",
    "my = 1/lmbd\n",
    "var = 1/pow(lmbd,2)\n",
    "std = math.sqrt(var)\n",
    "\n",
    "print('\\n')\n",
    "print(f'Expected value (µ): {my:.4f} --- Variance σ2: {var:.4f} ---Standard deviation σ: {std:.4f}')\n",
    "print(f'P(T≤{t}) = {accu_proden(lmbd, t)}')\n",
    "#print(f'P(T>{b_2}) = {1-accu_proden(lmbd, t_2)}')\n",
    "print('\\n')"
   ]
  }
 ],
 "metadata": {
  "interpreter": {
   "hash": "b0fa6594d8f4cbf19f97940f81e996739fb7646882a419484c72d19e05852a7e"
  },
  "kernelspec": {
   "display_name": "Python 3.9.13 64-bit",
   "language": "python",
   "name": "python3"
  },
  "language_info": {
   "codemirror_mode": {
    "name": "ipython",
    "version": 3
   },
   "file_extension": ".py",
   "mimetype": "text/x-python",
   "name": "python",
   "nbconvert_exporter": "python",
   "pygments_lexer": "ipython3",
   "version": "3.9.13"
  },
  "orig_nbformat": 4
 },
 "nbformat": 4,
 "nbformat_minor": 2
}

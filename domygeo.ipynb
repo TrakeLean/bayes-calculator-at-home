{
 "cells": [
  {
   "cell_type": "code",
   "execution_count": null,
   "metadata": {},
   "outputs": [],
   "source": [
    "import math"
   ]
  },
  {
   "cell_type": "code",
   "execution_count": null,
   "metadata": {},
   "outputs": [],
   "source": [
    "\n",
    "def accu_geometric(y,p,k,steps):\n",
    "    answer = 0\n",
    "    for x in range(y,k+1):\n",
    "        new_answer = single_geometric(x,p)\n",
    "        if steps:\n",
    "            print(f'Probability of Y = {x}: {new_answer:.5f}')\n",
    "        answer += new_answer\n",
    "    return answer\n",
    "def single_geometric(y,p):\n",
    "    answer = pow((1-p), (y-1))*p\n",
    "    return answer"
   ]
  },
  {
   "cell_type": "code",
   "execution_count": null,
   "metadata": {},
   "outputs": [],
   "source": [
    "# Probability\n",
    "p = 0.07692307692\n",
    "# From\n",
    "y = 0\n",
    "# To\n",
    "k = 13\n",
    "steps = True\n",
    "\n",
    "my = 1/p\n",
    "var = (1-p)/(pow(p,2))\n",
    "std = math.sqrt(var)\n",
    "\n",
    "print('\\n')\n",
    "print('---------------Geometric---------------')\n",
    "print(f'Expected value (µ): {my:.5f} --- Variance (σ2): {var:.5f} --- Standard deviation (σ): {std:.5f}')\n",
    "print(f'Probability of X where {y} ≤ Y ≤ {k}: {accu_geometric(y,p,k,steps)}')\n",
    "print('---------------------------------------')"
   ]
  }
 ],
 "metadata": {
  "language_info": {
   "name": "python"
  },
  "orig_nbformat": 4
 },
 "nbformat": 4,
 "nbformat_minor": 2
}

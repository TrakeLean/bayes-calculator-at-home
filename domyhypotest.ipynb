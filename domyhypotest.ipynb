{
 "cells": [
  {
   "cell_type": "code",
   "execution_count": null,
   "metadata": {},
   "outputs": [],
   "source": [
    "import scipy.stats\n",
    "import math\n",
    "from scipy.stats import t"
   ]
  },
  {
   "cell_type": "code",
   "execution_count": null,
   "metadata": {},
   "outputs": [],
   "source": [
    "def find_hypo_fler(excpected_average,found_average,n,std,alpha,valg):\n",
    "    if valg == 'ned':\n",
    "        print(f'H1: µ < {excpected_average}')\n",
    "        print(f'H0: µ ≥ {excpected_average}')\n",
    "        print(f'Forkaster H0 dersom µ er mye mindre enn {excpected_average}')\n",
    "        under,over = custom_normal_dist(excpected_average,found_average,n,std,alpha,'mye_mindre')\n",
    "        a, b = find_leftandright(excpected_average,std,n,alpha)\n",
    "        print(f'Mye mindre er dersom x̄ ≤ {under}')\n",
    "        \n",
    "        if found_average <= under:\n",
    "            print(f'Her kan vi se at x̄ \"{found_average}\" ER mye mindre enn vår forventet verdi \"{excpected_average}\",\\nsom vil si at vi forkaster vår H0 hypotese på {alpha*100}% nivå\\n')\n",
    "            find_strength(found_average,a,b,n,std)\n",
    "        else:\n",
    "            print(f'Her kan vi se at x̄ \"{found_average}\" IKKE er mye mindre enn vår forventet verdi \"{excpected_average}\",\\nsom vil si at vi beholder vår H0 hypotese på {alpha*100}% nivå\\n')\n",
    "            print(f'Hva er sjansen for P(x̄≤{found_average} | µ={excpected_average})')\n",
    "            print(f'Finn p-verdi')\n",
    "            show_work(excpected_average,found_average,n,None,alpha,None,None,None,'find_p_single')\n",
    "            find_strength(found_average,a,b,n,std)\n",
    "    if valg == 'opp':\n",
    "        print(f'H1: µ > {excpected_average}')\n",
    "        print(f'H0: µ ≤ {excpected_average}')\n",
    "        print(f'Forkaster H0 dersom µ er mye større enn {excpected_average}')\n",
    "        under,over = custom_normal_dist(excpected_average,found_average,n,std,alpha,'mye_storre')\n",
    "        a, b = find_leftandright(excpected_average,std,n,alpha)\n",
    "        print(f'Mye større er dersom x̄ ≥ {over}')\n",
    "        \n",
    "        if found_average >= over:\n",
    "            print(f'Her kan vi se at x̄ \"{found_average}\" ER mye større enn vår forventet verdi \"{excpected_average}\",\\nsom vil si at vi forkaster vår H0 hypotese på {alpha*100}% nivå\\n')\n",
    "            find_strength(found_average,a,b,n,std)\n",
    "        else:\n",
    "            print(f'Her kan vi se at x̄ \"{found_average}\" IKKE er mye større enn vår forventet verdi \"{excpected_average}\",\\nsom vil si at vi beholder vår H0 hypotese på {alpha*100}% nivå\\n')\n",
    "            print(f'Hva er sjansen for P(x̄≥{found_average} | µ={excpected_average})')\n",
    "            print(f'Finn p-verdi')\n",
    "            show_work(excpected_average,found_average,n,None,alpha,None,None,None,'find_p_single_up')\n",
    "            find_strength(found_average,a,b,n,std)\n",
    "    print('\\n')"
   ]
  },
  {
   "cell_type": "code",
   "execution_count": null,
   "metadata": {},
   "outputs": [],
   "source": [
    "def find_hypo_ukjent(n,excpected_average,alpha,data,valg):\n",
    "    found_average, std, median = get_data_info(data)\n",
    "    print(f'\\nGjennomsnitt: {found_average}, Median: {median}, Standardavvik: {std}')\n",
    "    if valg == 'ned':\n",
    "        print(f'H1: µ < {excpected_average}')\n",
    "        print(f'H0: µ ≥ {excpected_average}')\n",
    "        print(f'Forkaster H0 dersom µ er mye mindre enn {excpected_average}')\n",
    "\n",
    "        t_v, value = find_t(alpha,n,data,excpected_average)\n",
    "        print(f'Mye mindre er dersom x̄ ≤ T')\n",
    "        \n",
    "        show_work(excpected_average,found_average,n,None,alpha,None,None,None,'find_tobs')\n",
    "        print(f'Testobservator T: {value:.4f}')\n",
    "        print(f'Forkastningsområde: (-∞, {t_v}] ∪ [{-t_v}, ∞)')\n",
    "        if value <= -t_v:\n",
    "            print(f'Testobservatoren er innenfor vårt forkastningsområdet, som betyr at vi beholder H0 på {alpha*100}% nivå')\n",
    "        else:\n",
    "            print(f'Testobservatoren er ikke innenfor vårt forkastningsområdet, som betyr at vi forkaster H0 på {alpha*100}% nivå')\n",
    "        \n",
    "    if valg == 'opp':\n",
    "        print(f'H1: µ > {excpected_average}')\n",
    "        print(f'H0: µ ≤ {excpected_average}')\n",
    "        print(f'Forkaster H0 dersom µ er mye mer enn {excpected_average}')\n",
    "\n",
    "        t_v, value = find_t(alpha,n,data,excpected_average)\n",
    "        print(f'Mye mer er dersom x̄ ≥ T')\n",
    "        \n",
    "        show_work(excpected_average,found_average,n,None,alpha,None,None,None,'find_tobs')\n",
    "        print(f'Testobservator T: {value:.4f}')\n",
    "        print(f'Forkastningsområde: (-∞, {t_v}] ∪ [{-t_v}, ∞)')\n",
    "        if value >= t_v:\n",
    "            print(f'Testobservatoren er innenfor vårt forkastningsområdet, som betyr at vi beholder H0 på {alpha*100}% nivå')\n",
    "        else:\n",
    "            print(f'Testobservatoren er ikke innenfor vårt forkastningsområdet, som betyr at vi forkaster H0 på {alpha*100}% nivå')\n",
    "        \n",
    "    print('\\n')"
   ]
  },
  {
   "cell_type": "code",
   "execution_count": null,
   "metadata": {},
   "outputs": [],
   "source": [
    "def find_hypo_to(excpected_average,found_average,n,std,alpha):\n",
    "    print(f'H1: µ ≠ {excpected_average}')\n",
    "    print(f'H0: µ = {excpected_average}')\n",
    "    a, b = find_leftandright(excpected_average,std,n,alpha)\n",
    "    print(f'P(x̄<k1, eller x̄>k2 | µ={excpected_average})\\n')\n",
    "    show_work(excpected_average,found_average,n,None,alpha,None,None,None,'kvantiler')\n",
    "    print(f'Forkastningsområde: (-∞, {a}] ∪ [{b}, ∞)')\n",
    "    check_area(a,b,found_average,alpha)\n",
    "    print(f'Finn p-verdi')\n",
    "    show_work(excpected_average,found_average,n,std,alpha,None,None,None,'find_p_double')\n",
    "    find_strength(found_average,a,b,n,std)"
   ]
  },
  {
   "cell_type": "code",
   "execution_count": null,
   "metadata": {},
   "outputs": [],
   "source": [
    "def find_strength(found_average,a,b,n,std):\n",
    "    g_1 = (a - found_average)/(std/(math.sqrt(n)))\n",
    "    g_2 = (b - found_average)/(std/(math.sqrt(n)))\n",
    "    answer = round(normal_dist(g_1) + (1-(normal_dist(g_2))),4)\n",
    "    print(f'Styrken av P(forkaster H0 | µ = {found_average}) er: {answer} altså {answer*100}%')"
   ]
  },
  {
   "cell_type": "code",
   "execution_count": null,
   "metadata": {},
   "outputs": [],
   "source": [
    "def find_p(excpected_average, found_average, std, n):\n",
    "    return (found_average - excpected_average)/(std/(math.sqrt(n)))"
   ]
  },
  {
   "cell_type": "code",
   "execution_count": null,
   "metadata": {},
   "outputs": [],
   "source": [
    "def find_k(alpha):\n",
    "    for x in range(-4000,4000):\n",
    "        answer = normal_dist(x/1000)\n",
    "        if answer == alpha:\n",
    "            #print(f'G(z≤k) = {x/10000}')\n",
    "            return x/1000\n",
    "        if answer-0.0001 == alpha:\n",
    "            #print(f'G(z≤k) = {x/10000}')\n",
    "            return x/1000"
   ]
  },
  {
   "cell_type": "code",
   "execution_count": null,
   "metadata": {},
   "outputs": [],
   "source": [
    "def find_t(alpha,n,data,excpected_average):\n",
    "    mean = sum(data) /len(data)\n",
    "    s = find_s(data,mean)[0]\n",
    "    t_v = round(t.ppf(alpha,n-1),4)\n",
    "    value = ((mean-excpected_average)/(s/math.sqrt(n)))\n",
    "    return [t_v, value]"
   ]
  },
  {
   "cell_type": "code",
   "execution_count": null,
   "metadata": {},
   "outputs": [],
   "source": [
    "def find_s(data,mean):\n",
    "    emp = 0\n",
    "    for num in data:\n",
    "        emp += (math.pow((num-mean),2))\n",
    "    s = round(math.sqrt(emp/((len(data)-1))),4)\n",
    "    return [s, emp]"
   ]
  },
  {
   "cell_type": "code",
   "execution_count": null,
   "metadata": {},
   "outputs": [],
   "source": [
    "def check_area(a,b,found_average,alpha):\n",
    "    if found_average >= a and found_average <= b:\n",
    "        print(f'(x̄: {found_average}) er innenfor forkastningsområdet så H0 forkastes ikke på {alpha*100}% nivå\\n')\n",
    "    else:\n",
    "        print(f'(x̄: {found_average}) er ikke innenfor forkastningsområdet så H0 må forkastes på {alpha*100}% nivå\\n')\n",
    "        "
   ]
  },
  {
   "cell_type": "code",
   "execution_count": null,
   "metadata": {},
   "outputs": [],
   "source": [
    "def normal_dist(z):\n",
    "    # KUMULATIV STANDARDNORMALFORDELING N(1,0)\n",
    "    answer = float(f'{scipy.stats.norm.cdf(z,0):.4f}')\n",
    "    return answer"
   ]
  },
  {
   "cell_type": "code",
   "execution_count": null,
   "metadata": {},
   "outputs": [],
   "source": [
    "def find_leftandright(excpected_average,std,n,alpha):\n",
    "    k = find_k(alpha)\n",
    "    antstd = std/(math.sqrt(n))\n",
    "    a = round(excpected_average + ((k * antstd)), 4)\n",
    "    b = round(excpected_average - ((k * antstd)), 4)\n",
    "    return [a,b]"
   ]
  },
  {
   "cell_type": "code",
   "execution_count": null,
   "metadata": {},
   "outputs": [],
   "source": [
    "def custom_normal_dist(excpected_average,found_average,n,std,alpha,work_type):\n",
    "    alpha_original = alpha\n",
    "    alpha = find_k(alpha)\n",
    "    antstd = std/(math.sqrt(n))\n",
    "    left = excpected_average - (abs(alpha)*antstd)\n",
    "    #print(f'{found_average} - ({alpha}*{antstd})\\n{found_average} {alpha*antstd:.4f}')\n",
    "    right = excpected_average + (abs(alpha)*antstd)\n",
    "    show_work(excpected_average,found_average,n,antstd,alpha,alpha_original,left,right,work_type)\n",
    "    return [left, right]"
   ]
  },
  {
   "cell_type": "code",
   "execution_count": null,
   "metadata": {},
   "outputs": [],
   "source": [
    "def get_data_info(data):\n",
    "    mean = round(sum(data) /len(data),4)\n",
    "    data_sorted = sorted(data)\n",
    "    median = data_sorted[round(len(data)/2)]\n",
    "    std = round(find_s(data,mean)[0],4)\n",
    "    return [mean, std ,median]"
   ]
  },
  {
   "cell_type": "code",
   "execution_count": null,
   "metadata": {},
   "outputs": [],
   "source": [
    "def show_work(excpected_average,found_average,n,antstd,alpha,alpha_original,left,right,work_type):\n",
    "    antstd = std/(math.sqrt(n))\n",
    "    if work_type == 'mye_mindre':\n",
    "        print('\\nFinn hva \"mye mindre\" er')\n",
    "        print(f'P(x̄≤k | µ={excpected_average}) = {alpha_original}')\n",
    "        print(f'G((k-{excpected_average})/{antstd}) = {alpha_original}')\n",
    "        print(f'(k-{excpected_average})/{antstd} = {alpha}')\n",
    "        print(f'k = {excpected_average} - ({abs(alpha)} * {antstd}) = {left}\\n')\n",
    "    if work_type == 'mye_storre':\n",
    "        print('\\nFinn hva \"mye større\" er')\n",
    "        print(f'P(x̄≥k | µ={excpected_average}) = {(alpha_original)}')\n",
    "        print(f'G((k+{excpected_average})/{antstd}) = {alpha_original}')\n",
    "        print(f'(k+{excpected_average})/{antstd} = {abs(alpha)}')\n",
    "        print(f'k = {excpected_average} + ({abs(alpha)} * {antstd}) = {right}\\n')\n",
    "    if work_type == 'kvantiler':\n",
    "        pos_k = abs(find_k(alpha))\n",
    "        a, b = find_leftandright(excpected_average,std,n,alpha)\n",
    "        \n",
    "        print('Finner k1')\n",
    "        print(f'P(x̄<k1) = {alpha})')\n",
    "        print(f'P(x̄<k1) = G((k1 - {excpected_average}) / 2) = {alpha})')\n",
    "        print(f'(k1 - {excpected_average})/2 = {find_k(alpha)}')\n",
    "        print(f'k1 = {excpected_average} - ({pos_k} * {antstd}) = {a}\\n')\n",
    "        \n",
    "        print('Finner k2')\n",
    "        print(f'P(x̄<k2) = {alpha}')\n",
    "        print(f'P(x̄<k2) = G((k2 - {excpected_average}) / 2) = {alpha}')\n",
    "        print(f'(k2 - {excpected_average})/2 = {find_k(alpha)}')\n",
    "        print(f'k2 = {excpected_average} + ({pos_k} * {antstd}) = {b}\\n')\n",
    "        print(f'\\nForkast H0 hvis x̄ ≤ {a} eller x̄ ≥ {b}')\n",
    "    if work_type == 'find_p_single':\n",
    "        GO = find_p(excpected_average, found_average, std, n)\n",
    "        p = round((normal_dist(GO)),4)\n",
    "        print(f'G(({found_average} - {excpected_average}) / {std/(math.sqrt(n))}) = G({GO:.3f})')\n",
    "        print(f'G({GO:.4f}) = {p}')\n",
    "        print(f'P-verdien = {p}, altså det er {p*100}% sjanse for at et av våre resultater er ≤ {found_average}\\n')\n",
    "    if work_type == 'find_p_single_up':\n",
    "        GO = find_p(excpected_average, found_average, std, n)\n",
    "        p = round(((1-normal_dist(GO))),4)\n",
    "        print(f'1-G(({found_average} - {excpected_average}) / {std/(math.sqrt(n))}) = 1-G({GO:.4f})')\n",
    "        print(f'1-G({GO:.4f}) = {p}')\n",
    "        print(f'P-verdien = {p}, altså det er {round(p*100,4)}% sjanse for at et av våre resultater er ≥ {found_average}\\n')\n",
    "    if work_type == 'find_p_double':\n",
    "        p = (find_p(excpected_average,found_average,std,n))\n",
    "        p = round(2*((1-normal_dist(p))),4)\n",
    "        print(f'2*P(x̄≥{found_average}) = 2*(1-G(({found_average} - {excpected_average})/{antstd} = 2*(1-G({(found_average - excpected_average)/antstd}) = {p}')\n",
    "        print(f'P-verdien = {p}, altså det er {round(p*100,4)}% sjanse for at et av våre resultater er ≥ {found_average}\\n')\n",
    "    if work_type == 'find_s':\n",
    "        print(f's = sqrt({find_s(data,found_average)[1]}/({len(data)}-1)) = {find_s(data,found_average)[0]}')\n",
    "    if work_type == 'find_tobs':\n",
    "        found_average = get_data_info(data)[0]\n",
    "        show_work(excpected_average,found_average,n,antstd,alpha,alpha_original,left,right,'find_s')\n",
    "        print(f'T = (({found_average} - {excpected_average})/({find_s(data,found_average)[0]}/sqrt({n}))) = {round(find_t(alpha,n,data,excpected_average)[1],4)}\\n')"
   ]
  },
  {
   "cell_type": "code",
   "execution_count": 22,
   "metadata": {},
   "outputs": [
    {
     "name": "stdout",
     "output_type": "stream",
     "text": [
      "H1: µ < 265\n",
      "H0: µ ≥ 265\n",
      "Forkaster H0 dersom µ er mye mindre enn 265\n",
      "\n",
      "Finn hva \"mye mindre\" er\n",
      "P(x̄≤k | µ=265) = 0.05\n",
      "G((k-265)/6.324555320336758) = 0.05\n",
      "(k-265)/6.324555320336758 = -1.645\n",
      "k = 265 - (1.645 * 6.324555320336758) = 254.59610649804603\n",
      "\n",
      "Mye mindre er dersom x̄ ≤ 254.59610649804603\n",
      "Her kan vi se at x̄ \"262.2733\" IKKE er mye mindre enn vår forventet verdi \"265\",\n",
      "som vil si at vi beholder vår H0 hypotese på 5.0% nivå\n",
      "\n",
      "Hva er sjansen for P(x̄≤262.2733 | µ=265)\n",
      "Finn p-verdi\n",
      "G((262.2733 - 265) / 6.324555320336758) = G(-0.431)\n",
      "G(-0.4311) = 0.3332\n",
      "P-verdien = 0.3332, altså det er 33.32% sjanse for at et av våre resultater er ≤ 262.2733\n",
      "\n",
      "Styrken av P(forkaster H0 | µ = 262.2733) er: 0.1313 altså 13.13%\n",
      "\n",
      "\n"
     ]
    }
   ],
   "source": [
    "# en sidig\n",
    "# n = tries\n",
    "# Excpected average = µ\n",
    "# Std = σ\n",
    "# Alpha = signifikansnivå\n",
    "# Found average = x̄\n",
    "n = 10\n",
    "excpected_average = 265\n",
    "std = 20\n",
    "alpha = 0.05\n",
    "found_average = 262.2733\n",
    "\n",
    "valg = 'ned'\n",
    "#valg = 'opp'\n",
    "find_hypo_fler(excpected_average,found_average,n,std,alpha,valg)\n"
   ]
  },
  {
   "cell_type": "code",
   "execution_count": null,
   "metadata": {},
   "outputs": [],
   "source": [
    "# To sidig\n",
    "# n = tries\n",
    "# Excpected average = µ\n",
    "# Std = σ\n",
    "# Alpha = signifikansnivå\n",
    "# Found average = x̄\n",
    "n = 9\n",
    "excpected_average = 50\n",
    "std = 6\n",
    "alpha = .05\n",
    "\n",
    "# Får så resultatet av de nye målingene også må jeg se om det nye resultatet\n",
    "# er innenfor forkastningsområdet vi har funnet. om det er innenfor så forkaster vi\n",
    "# ikke h0, men om det er utenfor så må vi forkaste h0\n",
    "found_average = 49\n",
    "\n",
    "find_hypo_to(excpected_average,found_average,n,std,alpha/2)"
   ]
  },
  {
   "cell_type": "code",
   "execution_count": 32,
   "metadata": {},
   "outputs": [
    {
     "name": "stdout",
     "output_type": "stream",
     "text": [
      "\n",
      "Gjennomsnitt: 0.0, Median: 0.1, Standardavvik: 0.1414\n",
      "H1: µ < 0\n",
      "H0: µ ≥ 0\n",
      "Forkaster H0 dersom µ er mye mindre enn 0\n",
      "Mye mindre er dersom x̄ ≤ T\n",
      "s = sqrt(0.020000000000000004/(2-1)) = 0.1414\n",
      "T = ((0.0 - 0)/(0.1414/sqrt(8))) = 0.0\n",
      "\n",
      "Testobservator T: 0.0000\n",
      "Forkastningsområde: (-∞, -1.8946] ∪ [1.8946, ∞)\n",
      "Testobservatoren er innenfor vårt forkastningsområdet, som betyr at vi beholder H0 på 5.0% nivå\n",
      "\n",
      "\n"
     ]
    }
   ],
   "source": [
    "# Ukjent sigma\n",
    "# n = tries\n",
    "# Excpected average = µ\n",
    "# Std = σ = ukjent\n",
    "# Alpha = signifikansnivå\n",
    "# Data = list of given numbers\n",
    "n = 8\n",
    "excpected_average = 0\n",
    "alpha = 0.05\n",
    "data = [-0.1,0.1]\n",
    "\n",
    "valg = 'ned'\n",
    "#valg = 'opp'\n",
    "find_hypo_ukjent(n,excpected_average,alpha,data,valg)\n",
    "\n",
    "\n"
   ]
  }
 ],
 "metadata": {
  "interpreter": {
   "hash": "b0fa6594d8f4cbf19f97940f81e996739fb7646882a419484c72d19e05852a7e"
  },
  "kernelspec": {
   "display_name": "Python 3.9.13 64-bit",
   "language": "python",
   "name": "python3"
  },
  "language_info": {
   "codemirror_mode": {
    "name": "ipython",
    "version": 3
   },
   "file_extension": ".py",
   "mimetype": "text/x-python",
   "name": "python",
   "nbconvert_exporter": "python",
   "pygments_lexer": "ipython3",
   "version": "3.9.13"
  },
  "orig_nbformat": 4
 },
 "nbformat": 4,
 "nbformat_minor": 2
}

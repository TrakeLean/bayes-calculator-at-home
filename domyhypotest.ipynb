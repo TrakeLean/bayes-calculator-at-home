{
 "cells": [
  {
   "cell_type": "code",
   "execution_count": 512,
   "metadata": {},
   "outputs": [],
   "source": [
    "import scipy.stats\n",
    "import math"
   ]
  },
  {
   "cell_type": "code",
   "execution_count": 536,
   "metadata": {},
   "outputs": [],
   "source": [
    "def find_hypo_fler(excpected_average,found_average,n,std,alpha,valg):\n",
    "    if valg == 'ned':\n",
    "        print(f'H1: µ < {excpected_average}')\n",
    "        print(f'H0: µ ≥ {excpected_average}')\n",
    "        print(f'Forkaster H0 dersom µ er mye mindre enn {excpected_average}')\n",
    "        under,over = custom_normal_dist(excpected_average,found_average,n,std,alpha,'mye_mindre')\n",
    "        a, b = find_leftandright(excpected_average,std,n,alpha)\n",
    "        print(f'Mye mindre er dersom x̄ ≤ {under}')\n",
    "        \n",
    "        if found_average <= under:\n",
    "            print(f'Her kan vi se at x̄ \"{found_average}\" ER mye mindre enn vår forventet verdi \"{excpected_average}\",\\nsom vil si at vi forkaster vår H0 hypotese på {alpha*100}% nivå\\n')\n",
    "            find_strength(found_average,a,b,n,std)\n",
    "        else:\n",
    "            print(f'Her kan vi se at x̄ \"{found_average}\" IKKE er mye mindre enn vår forventet verdi \"{excpected_average}\",\\nsom vil si at vi beholder vår H0 hypotese på {alpha*100}% nivå\\n')\n",
    "            print(f'Hva er sjansen for P(x̄≤{found_average} | µ={excpected_average})')\n",
    "            print(f'Finn p-verdi')\n",
    "            show_work(excpected_average,found_average,n,None,alpha,None,None,'find_p_single')\n",
    "            find_strength(found_average,a,b,n,std)\n",
    "    if valg == 'opp':\n",
    "        print(f'H1: µ > {excpected_average}')\n",
    "        print(f'H0: µ ≤ {excpected_average}')\n",
    "        print(f'Forkaster H0 dersom µ er mye større enn {excpected_average}')\n",
    "        under,over = custom_normal_dist(excpected_average,found_average,n,std,alpha,'mye_storre')\n",
    "        a, b = find_leftandright(excpected_average,std,n,alpha)\n",
    "        print(f'Mye større er dersom x̄ ≥ {over}')\n",
    "        \n",
    "        if found_average >= over:\n",
    "            print(f'Her kan vi se at x̄ \"{found_average}\" ER mye større enn vår forventet verdi \"{excpected_average}\",\\nsom vil si at vi forkaster vår H0 hypotese på {alpha*100}% nivå\\n')\n",
    "            find_strength(found_average,a,b,n,std)\n",
    "        else:\n",
    "            print(f'Her kan vi se at x̄ \"{found_average}\" IKKE er mye større enn vår forventet verdi \"{excpected_average}\",\\nsom vil si at vi beholder vår H0 hypotese på {alpha*100}% nivå\\n')\n",
    "            print(f'Hva er sjansen for P(x̄≥{found_average} | µ={excpected_average})')\n",
    "            print(f'Finn p-verdi')\n",
    "            show_work(excpected_average,found_average,n,None,alpha,None,None,None,'find_p_single_up')\n",
    "            find_strength(found_average,a,b,n,std)\n",
    "    print('\\n')"
   ]
  },
  {
   "cell_type": "code",
   "execution_count": 514,
   "metadata": {},
   "outputs": [],
   "source": [
    "def find_strength(found_average,a,b,n,std):\n",
    "    g_1 = (a - found_average)/(std/(math.sqrt(n)))\n",
    "    g_2 = (b - found_average)/(std/(math.sqrt(n)))\n",
    "    answer = round(normal_dist(g_1) + (1-(normal_dist(g_2))),4)\n",
    "    print(f'Styrken av P(forkaster H0 | µ = {found_average}) er: {answer} altså {answer*100}%')"
   ]
  },
  {
   "cell_type": "code",
   "execution_count": 515,
   "metadata": {},
   "outputs": [],
   "source": [
    "def find_hypo_to(excpected_average,found_average,n,std,alpha):\n",
    "    print(f'H1: µ ≠ {excpected_average}')\n",
    "    print(f'H0: µ = {excpected_average}')\n",
    "    a, b = find_leftandright(excpected_average,std,n,alpha)\n",
    "    print(f'P(x̄<k1, eller x̄>k2 | µ={excpected_average})\\n')\n",
    "    show_work(excpected_average,found_average,n,None,alpha,None,None,None,'kvantiler')\n",
    "    print(f'Forkastningsområde: (-∞, {a}] ∪ [{b}, ∞)')\n",
    "    check_area(a,b,found_average)\n",
    "    print(f'Finn p-verdi')\n",
    "    show_work(excpected_average,found_average,n,std,alpha,None,None,None,'find_p_double')\n",
    "    find_strength(found_average,a,b,n,std)\n"
   ]
  },
  {
   "cell_type": "code",
   "execution_count": 516,
   "metadata": {},
   "outputs": [],
   "source": [
    "def find_p(excpected_average, found_average, std, n):\n",
    "    return (found_average - excpected_average)/(std/(math.sqrt(n)))"
   ]
  },
  {
   "cell_type": "code",
   "execution_count": 517,
   "metadata": {},
   "outputs": [],
   "source": [
    "def check_area(a,b,found_average):\n",
    "    if found_average >= a and found_average <= b:\n",
    "        print(f'(x̄: {found_average}) er innenfor forkastningsområdet så H0 forkastes ikke\\n')\n",
    "    else:\n",
    "        print(f'(x̄: {found_average}) er ikke innenfor forkastningsområdet så H0 må forkastes\\n')\n",
    "        "
   ]
  },
  {
   "cell_type": "code",
   "execution_count": 518,
   "metadata": {},
   "outputs": [],
   "source": [
    "def normal_dist(z):\n",
    "    # KUMULATIV STANDARDNORMALFORDELING N(1,0)\n",
    "    answer = float(f'{scipy.stats.norm.cdf(z,0):.4f}')\n",
    "    return answer"
   ]
  },
  {
   "cell_type": "code",
   "execution_count": 519,
   "metadata": {},
   "outputs": [],
   "source": [
    "def find_k(alpha):\n",
    "    for x in range(-4000,4000):\n",
    "        answer = normal_dist(x/1000)\n",
    "        if answer == alpha:\n",
    "            #print(f'G(z≤k) = {x/10000}')\n",
    "            return x/1000\n",
    "        if answer-0.0001 == alpha:\n",
    "            #print(f'G(z≤k) = {x/10000}')\n",
    "            return x/1000"
   ]
  },
  {
   "cell_type": "code",
   "execution_count": 520,
   "metadata": {},
   "outputs": [],
   "source": [
    "def find_leftandright(excpected_average,std,n,alpha):\n",
    "    k = find_k(alpha)\n",
    "    antstd = std/(math.sqrt(n))\n",
    "    a = round(excpected_average + ((k * antstd)), 4)\n",
    "    b = round(excpected_average - ((k * antstd)), 4)\n",
    "    return [a,b]"
   ]
  },
  {
   "cell_type": "code",
   "execution_count": 521,
   "metadata": {},
   "outputs": [],
   "source": [
    "def custom_normal_dist(excpected_average,found_average,n,std,alpha,work_type):\n",
    "    alpha_original = alpha\n",
    "    alpha = find_k(alpha)\n",
    "    antstd = std/(math.sqrt(n))\n",
    "    left = excpected_average - (abs(alpha)*antstd)\n",
    "    #print(f'{found_average} - ({alpha}*{antstd})\\n{found_average} {alpha*antstd:.4f}')\n",
    "    right = excpected_average + (abs(alpha)*antstd)\n",
    "    show_work(excpected_average,found_average,n,antstd,alpha,alpha_original,left,right,work_type)\n",
    "    return [left, right]"
   ]
  },
  {
   "cell_type": "code",
   "execution_count": 534,
   "metadata": {},
   "outputs": [],
   "source": [
    "def show_work(excpected_average,found_average,n,antstd,alpha,alpha_original,left,right,work_type):\n",
    "    antstd = std/(math.sqrt(n))\n",
    "    if work_type == 'mye_mindre':\n",
    "        print('\\nFinn hva \"mye mindre\" er')\n",
    "        print(f'P(x̄≤k | µ={excpected_average}) = {alpha_original}')\n",
    "        print(f'G((k-{excpected_average})/{antstd}) = {alpha_original}')\n",
    "        print(f'(k-{excpected_average})/{antstd} = {alpha}')\n",
    "        print(f'k = {excpected_average} - ({abs(alpha)} * {antstd}) = {left}\\n')\n",
    "    if work_type == 'mye_storre':\n",
    "        print('\\nFinn hva \"mye større\" er')\n",
    "        print(f'P(x̄≥k | µ={excpected_average}) = {(alpha_original)}')\n",
    "        print(f'G((k+{excpected_average})/{antstd}) = {alpha_original}')\n",
    "        print(f'(k+{excpected_average})/{antstd} = {abs(alpha)}')\n",
    "        print(f'k = {excpected_average} + ({abs(alpha)} * {antstd}) = {right}\\n')\n",
    "    if work_type == 'kvantiler':\n",
    "        pos_k = abs(find_k(alpha))\n",
    "        a, b = find_leftandright(excpected_average,std,n,alpha)\n",
    "        \n",
    "        print('Finner k1')\n",
    "        print(f'P(x̄<k1) = {alpha})')\n",
    "        print(f'P(x̄<k1) = G((k1 - {excpected_average}) / 2) = {alpha})')\n",
    "        print(f'(k1 - {excpected_average})/2 = {find_k(alpha)}')\n",
    "        print(f'k1 = {excpected_average} - ({pos_k} * {antstd}) = {a}\\n')\n",
    "        \n",
    "        print('Finner k2')\n",
    "        print(f'P(x̄<k2) = {alpha}')\n",
    "        print(f'P(x̄<k2) = G((k2 - {excpected_average}) / 2) = {alpha}')\n",
    "        print(f'(k2 - {excpected_average})/2 = {find_k(alpha)}')\n",
    "        print(f'k2 = {excpected_average} + ({pos_k} * {antstd}) = {b}\\n')\n",
    "        print(f'\\nForkast H0 hvis x̄ ≤ {a} eller x̄ ≥ {b}')\n",
    "    if work_type == 'find_p_single':\n",
    "        GO = find_p(excpected_average, found_average, std, n)\n",
    "        p = round((normal_dist(GO)),4)\n",
    "        print(f'G(({found_average} - {excpected_average}) / {std/(math.sqrt(n))}) = G({GO:.3f})')\n",
    "        print(f'G({GO:.4f}) = {p}')\n",
    "        print(f'P-verdien = {p}, altså det er {p*100}% sjanse for at et av våre resultater er ≤ {found_average}\\n')\n",
    "    if work_type == 'find_p_single_up':\n",
    "        GO = find_p(excpected_average, found_average, std, n)\n",
    "        p = round(((1-normal_dist(GO))),4)\n",
    "        print(f'1-G(({found_average} - {excpected_average}) / {std/(math.sqrt(n))}) = 1-G({GO:.4f})')\n",
    "        print(f'1-G({GO:.4f}) = {p}')\n",
    "        print(f'P-verdien = {p}, altså det er {round(p*100,4)}% sjanse for at et av våre resultater er ≥ {found_average}\\n')\n",
    "    if work_type == 'find_p_double':\n",
    "        p = (find_p(excpected_average,found_average,std,n))\n",
    "        p = round(2*((1-normal_dist(p))),4)\n",
    "        print(f'2*P(x̄≥{found_average}) = 2*(1-G(({found_average} - {excpected_average})/{antstd} = 2*(1-G({(found_average - excpected_average)/antstd}) = {p}')\n",
    "        print(f'P-verdien = {p}, altså det er {round(p*100,4)}% sjanse for at et av våre resultater er ≥ {found_average}\\n')"
   ]
  },
  {
   "cell_type": "code",
   "execution_count": 537,
   "metadata": {},
   "outputs": [
    {
     "name": "stdout",
     "output_type": "stream",
     "text": [
      "H1: µ > 250\n",
      "H0: µ ≤ 250\n",
      "Forkaster H0 dersom µ er mye større enn 250\n",
      "\n",
      "Finn hva \"mye større\" er\n",
      "P(x̄≥k | µ=250) = 0.05\n",
      "G((k+250)/1.5) = 0.05\n",
      "(k+250)/1.5 = 1.645\n",
      "k = 250 + (1.645 * 1.5) = 252.4675\n",
      "\n",
      "Mye større er dersom x̄ ≥ 252.4675\n",
      "Her kan vi se at x̄ \"247.53\" IKKE er mye større enn vår forventet verdi \"250\",\n",
      "som vil si at vi beholder vår H0 hypotese på 5.0% nivå\n",
      "\n",
      "Hva er sjansen for P(x̄≥247.53 | µ=250)\n",
      "Finn p-verdi\n",
      "1-G((247.53 - 250) / 1.5) = 1-G(-1.6467)\n",
      "1-G(-1.6467) = 0.9502\n",
      "P-verdien = 0.9502, altså det er 95.02% sjanse for at et av våre resultater er ≥ 247.53\n",
      "\n",
      "Styrken av P(forkaster H0 | µ = 247.53) er: 0.5012 altså 50.12%\n",
      "\n",
      "\n"
     ]
    }
   ],
   "source": [
    "# Fler sidig\n",
    "# Found average = x̄\n",
    "# Excpected average = µ\n",
    "# Alpha = signifikansnivå\n",
    "# Std = σ\n",
    "n = 4\n",
    "excpected_average = 250\n",
    "found_average = 247.53\n",
    "std = 3\n",
    "alpha = 0.05\n",
    "\n",
    "#valg = 'ned'\n",
    "valg = 'opp'\n",
    "\n",
    "find_hypo_fler(excpected_average,found_average,n,std,alpha,valg)\n"
   ]
  },
  {
   "cell_type": "code",
   "execution_count": 528,
   "metadata": {},
   "outputs": [
    {
     "name": "stdout",
     "output_type": "stream",
     "text": [
      "H1: µ ≠ 50\n",
      "H0: µ = 50\n",
      "P(x̄<k1, eller x̄>k2 | µ=50)\n",
      "\n",
      "Finner k1\n",
      "P(x̄<k1) = 0.025)\n",
      "P(x̄<k1) = G((k1 - 50) / 2) = 0.025)\n",
      "(k1 - 50)/2 = -1.96\n",
      "k1 = 50 - (1.96 * 2.0) = 46.08\n",
      "\n",
      "Finner k2\n",
      "P(x̄<k2) = 0.025\n",
      "P(x̄<k2) = G((k2 - 50) / 2) = 0.025\n",
      "(k2 - 50)/2 = -1.96\n",
      "k2 = 50 + (1.96 * 2.0) = 53.92\n",
      "\n",
      "\n",
      "Forkast H0 hvis x̄ ≤ 46.08 eller x̄ ≥ 53.92\n",
      "Forkastningsområde: (-∞, 46.08] ∪ [53.92, ∞)\n",
      "(x̄: 49) er innenfor forkastningsområdet så H0 forkastes ikke\n",
      "\n",
      "Finn p-verdi\n",
      "2*P(x̄≥49) = 2*(1-G((49 - 50)/2.0 = 2*(1-G(-0.5) = 1.383\n",
      "P-verdien = 1.383, altså det er 138.3% sjanse for at et av våre resultater er ≥ 49\n",
      "\n",
      "Styrken av P(forkaster H0 | µ = 49) er: 0.079 altså 7.9%\n"
     ]
    }
   ],
   "source": [
    "# To sidig\n",
    "# Found average = x̄\n",
    "# Excpected average = µ\n",
    "# Alpha = signifikansnivå\n",
    "# Std = σ\n",
    "n = 9\n",
    "excpected_average = 50\n",
    "std = 6\n",
    "alpha = .05\n",
    "\n",
    "# Får så resultatet av de nye målingene også må jeg se om det nye resultatet\n",
    "# er innenfor forkastningsområdet vi har funnet. om det er innenfor så forkaster vi\n",
    "# ikke h0, men om det er utenfor så må vi forkaste h0\n",
    "found_average = 49\n",
    "\n",
    "find_hypo_to(excpected_average,found_average,n,std,alpha/2)"
   ]
  }
 ],
 "metadata": {
  "interpreter": {
   "hash": "b0fa6594d8f4cbf19f97940f81e996739fb7646882a419484c72d19e05852a7e"
  },
  "kernelspec": {
   "display_name": "Python 3.9.13 64-bit",
   "language": "python",
   "name": "python3"
  },
  "language_info": {
   "codemirror_mode": {
    "name": "ipython",
    "version": 3
   },
   "file_extension": ".py",
   "mimetype": "text/x-python",
   "name": "python",
   "nbconvert_exporter": "python",
   "pygments_lexer": "ipython3",
   "version": "3.9.13"
  },
  "orig_nbformat": 4
 },
 "nbformat": 4,
 "nbformat_minor": 2
}
